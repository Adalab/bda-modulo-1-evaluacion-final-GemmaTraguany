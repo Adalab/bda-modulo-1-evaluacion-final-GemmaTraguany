{
 "cells": [
  {
   "cell_type": "markdown",
   "id": "1edb5b01",
   "metadata": {},
   "source": [
    "### EVALUACIÓN MODULO 1 - Gemma Traguany \n"
   ]
  },
  {
   "cell_type": "code",
   "execution_count": null,
   "id": "39eab467",
   "metadata": {},
   "outputs": [],
   "source": [
    "#Lista de diccionarios vacía:\n",
    "inventory_list = []\n",
    "\n",
    "#Aqui compruebo si está el producto y o bien le actualizo la cantidad o lo añado si es nuevo:\n",
    "\n",
    "def add_product(nombre, precio, cantidad):\n",
    "    for producto in inventory_list:\n",
    "        if producto['nombre'].lower() == nombre and producto['precio'] == precio:     #Aqui compara el nombre del producto y el precio.\n",
    "            producto['cantidad'] += cantidad                                  #Si coincide nombre y precio me actualiza la cantidad de ese producto\n",
    "            print(f'Se ha actualizado la cantidad del producto {producto[\"nombre\"]}.')\n",
    "            return                                                                      #El return para de ejecutar la función.\n",
    "    \n",
    "    else:\n",
    "        inventory_list.append({'nombre': nombre, 'precio': precio, 'cantidad': cantidad})\n",
    "        print(f'Se ha agregado el producto {nombre.capitalize()} en la lista de inventario.')\n",
    "    \n",
    "inventory_list\n",
    "print('La lista de inventario está vacía.')"
   ]
  },
  {
   "cell_type": "code",
   "execution_count": null,
   "id": "72749ffb",
   "metadata": {},
   "outputs": [],
   "source": [
    "#En el enunciado he entendido que primero tenia que estar vacia y luego comprobar si estan en la lisa, sino añadirlos. En este caso se añaden:\n",
    "\n",
    "add_product(\"camisa\", 20, 20)\n",
    "add_product(\"pantalón\", 10, 15)\n",
    "add_product(\"bufanda\", 10, 12)\n"
   ]
  },
  {
   "cell_type": "code",
   "execution_count": null,
   "id": "f6e86f49",
   "metadata": {},
   "outputs": [],
   "source": [
    "#Como ver que tenemos en el inventario:\n",
    "\n",
    "def view_inventory():\n",
    "    if not inventory_list:                  #Si no hay nada en el inventario, mandaremos un mensaje:\n",
    "        print('El inventario está vacio')\n",
    "    \n",
    "    else:\n",
    "        print('Inventario actual:')            #Si hay productos en el inventario mandaremos un mensaje con todo el inventario:\n",
    "        for producto in inventory_list:\n",
    "            print(f\"Nombre: {producto['nombre'].capitalize()}, Precio: {producto['precio']}€, 'Cantidad: {producto['cantidad']} unidades\")\n",
    "\n",
    "view_inventory()"
   ]
  },
  {
   "cell_type": "code",
   "execution_count": null,
   "id": "b27fee3f",
   "metadata": {},
   "outputs": [],
   "source": [
    "## Para comprobar que pasaría si el inventario estuviera vacío:\n",
    "\n",
    "lista_inventario2 = []\n",
    "\n",
    "def ver_inventario2():\n",
    "    if not lista_inventario2:                  \n",
    "        print('El inventario está vacio.')\n",
    "    \n",
    "    else:\n",
    "        print('Inventario actual:')           \n",
    "        for producto in lista_inventario2:\n",
    "            print(f\"Nombre: {producto['nombre']}, Precio: {producto['precio']}€, 'Cantidad: {producto['cantidad']} unidades\")\n",
    "\n",
    "ver_inventario2()"
   ]
  },
  {
   "cell_type": "code",
   "execution_count": null,
   "id": "ccfdce72",
   "metadata": {},
   "outputs": [],
   "source": [
    "## Añado un nuevo producto al inventario:\n",
    "\n",
    "add_product(\"jersei\", 45, 10)\n",
    "\n",
    "inventory_list"
   ]
  },
  {
   "cell_type": "code",
   "execution_count": null,
   "id": "158e7d83",
   "metadata": {},
   "outputs": [],
   "source": [
    "def search_product(nombre):\n",
    "    for producto in inventory_list:\n",
    "        if producto[\"nombre\"].title() == nombre.title():  #Para asegurarme de que no pasa nada si ponemos mayus o minus\n",
    "            print(f'El producto {nombre} está en stock. Precio: {producto['precio']}€, cantidad: {producto['cantidad']} unidades') \n",
    "            break  #o continue? \n",
    "    else:\n",
    "        print(f'No tenemos el producto {nombre.capitalize()} en el inventario.')\n"
   ]
  },
  {
   "cell_type": "code",
   "execution_count": null,
   "id": "fb5632e1",
   "metadata": {},
   "outputs": [],
   "source": [
    "search_product(\"camisa\")"
   ]
  },
  {
   "cell_type": "code",
   "execution_count": null,
   "id": "0d5f46f0",
   "metadata": {},
   "outputs": [],
   "source": [
    "inventory_list\n",
    "\n",
    "def update_stock(nombre, cantidad):\n",
    "    for item in inventory_list:\n",
    "        if item ['nombre'].lower() == nombre.lower():          #itera en la lista para ver si está el producto\n",
    "            print('Tu producto si está en el inventario.')\n",
    "            try:        \n",
    "                if item['cantidad'] + cantidad < 0:      #Aquí si le restamos producto pedido al que tenemos y es menor de 0 es que no tenemos suficiente.\n",
    "                    print(f'No hay suficientes unidades. Solo quedan {item['cantidad']}.')\n",
    "                else:                               \n",
    "                    item['cantidad'] += cantidad         #Si esta el producto y le sumamos más actualizará el total\n",
    "                    print(f'Ahora tienes {item['cantidad']} unidades de {nombre.capitalize()}.')     \n",
    "            except ValueError:\n",
    "                print('Por favor, introduce un número válido.')\n",
    "            break\n",
    "    else:\n",
    "        print(f'Lo siento! Tu producto {nombre.capitalize()} no está en el inventario. Lo vamos a añadir.')       #Si cuando itera no enucentra el producto es que no existe.\n",
    "        unidades = int(input(f'¿Cuantas unidades quieres?'))\n",
    "        precio = int(input(f'¿Cual es el precio por unidad de {nombre.capitalize()} €'))\n",
    "        \n",
    "        new_item = {'nombre': nombre.lower(), 'precio': precio, 'cantidad': unidades}\n",
    "        inventory_list.append(new_item)\n",
    "        \n",
    "        print(f'Ya hemos añadido tu nuevo producto {nombre.capitalize()} al inventario.')\n",
    "    return"
   ]
  },
  {
   "cell_type": "code",
   "execution_count": null,
   "id": "a4f3535b",
   "metadata": {},
   "outputs": [],
   "source": [
    "update_stock('pijama', 50)"
   ]
  },
  {
   "cell_type": "code",
   "execution_count": null,
   "id": "edeaf5f5",
   "metadata": {},
   "outputs": [],
   "source": [
    "update_stock('camisa', -10)"
   ]
  },
  {
   "cell_type": "code",
   "execution_count": null,
   "id": "946adef1",
   "metadata": {},
   "outputs": [],
   "source": [
    "def delete_product(nombre):\n",
    "    for item in inventory_list:\n",
    "        if item ['nombre'].lower() == nombre.lower():\n",
    "            inventory_list.remove(item)\n",
    "            print(f'Tu producto {nombre.capitalize()} se ha eliminado del inventario.')  \n",
    "            break\n",
    "    else:\n",
    "        print(f'Tu producto {nombre.capitalize()} no existe en el inventario.')"
   ]
  },
  {
   "cell_type": "code",
   "execution_count": null,
   "id": "73709cca",
   "metadata": {},
   "outputs": [],
   "source": [
    "delete_product('camisa')"
   ]
  },
  {
   "cell_type": "code",
   "execution_count": null,
   "id": "aa8c95bc",
   "metadata": {},
   "outputs": [],
   "source": [
    "def calculate_value_inventory():\n",
    "\n",
    "    value_inventory = 0\n",
    "\n",
    "    for producto in inventory_list:\n",
    "        value_product = producto['precio'] * producto['cantidad']\n",
    "        value_inventory += value_product\n",
    "    print(f'El valor total del inventario actual es de: {value_inventory}€.')"
   ]
  },
  {
   "cell_type": "code",
   "execution_count": null,
   "id": "150275b8",
   "metadata": {},
   "outputs": [],
   "source": [
    "calculate_value_inventory()"
   ]
  },
  {
   "cell_type": "code",
   "execution_count": null,
   "id": "68c70e65",
   "metadata": {},
   "outputs": [],
   "source": [
    "\n",
    "def client_shopping():\n",
    "    \n",
    "    trolley = {}\n",
    "    value_shopping = 0\n",
    "    print(f'Bienvenida a la tienda de segunda mano. Estos son los productos disponibles:')\n",
    "    view_inventory()\n",
    "\n",
    "    while True:\n",
    "        \n",
    "        opcion1 = input(\"¿Que producto quieres comprar? Escribe FIN para terminar tu compra.\").lower()\n",
    "        if opcion1.lower() == \"fin\":\n",
    "             break\n",
    "\n",
    "        for product in inventory_list:                     #Mientras siga comprando, se repetirá el bucle.\n",
    "            if product['nombre'].lower() == opcion1.lower():\n",
    "                    cantidad = int(input(f'Si tenemos {product[\"nombre\"]} en stock. ¿Cuantas unidades quieres?'))\n",
    "\n",
    "                    if cantidad > product['cantidad']:                                  \n",
    "                         print(f'Lo siento, no tenemos suficiente stock, solo quedan {product[\"cantidad\"]} unidades de {opcion1}.')\n",
    "                    else:\n",
    "                        if opcion1 in trolley:\n",
    "                            trolley[opcion1] += cantidad\n",
    "                        else:\n",
    "                            trolley[opcion1] = cantidad\n",
    "\n",
    "                        product['cantidad'] -= cantidad\n",
    "                        print(f'Hemos añadido {cantidad} {product[\"nombre\"]} a tu carrito.')\n",
    "                        print(\"--------------\")\n",
    "                    break\n",
    "        else:\n",
    "            print(f'Lo siento, no tenempos {opcion1} en nuestro inventario.')\n",
    "\n",
    "                        \n",
    "        more_product = input('Quieres comprar algun producto más? Indique: Si o No')\n",
    "                        \n",
    "        if more_product.lower() != \"si\":\n",
    "            break\n",
    "        \n",
    "    print('Tu carrito contiene:', trolley)\n",
    "    print(\"--------------\")\n",
    "\n",
    "    if trolley:\n",
    "        for product_name, quantity_buyed in trolley.items():    #item nos devuelve una key y un value, así que iterara en ambos\n",
    "            for product in inventory_list:\n",
    "                if product['nombre'].lower() == product_name.lower():\n",
    "                    precio = product['precio']\n",
    "                    value_shopping += precio * quantity_buyed\n",
    "        print(f'Muy buena compra! El total de su compra es de: {value_shopping}€.')\n",
    "        print(\"--------------\")\n",
    "    \n",
    "        view_inventory()\n",
    "        print(\"--------------\")\n",
    "    else:\n",
    "        print('No has comprado nada, te esperamos otro dia!')"
   ]
  },
  {
   "cell_type": "code",
   "execution_count": null,
   "id": "c8ed0c1b",
   "metadata": {},
   "outputs": [],
   "source": [
    "client_shopping()"
   ]
  },
  {
   "cell_type": "code",
   "execution_count": null,
   "id": "ac7cce0c",
   "metadata": {},
   "outputs": [],
   "source": [
    "#PRUEBAS\n",
    "\n",
    "inventory_list\n",
    "\n",
    "# Añado un producto nuevo:\n",
    "add_product('camiseta',10, 15)\n",
    "print(\"--------------\")\n",
    "\n",
    "#Miro el inventario actualizado:\n",
    "view_inventory()\n",
    "print(\"--------------\")\n",
    "\n",
    "#Busco un producto en el inventario:\n",
    "search_product('pantalón')\n",
    "print(\"--------------\")\n",
    "\n",
    "#Actualizo un producto que ya tengo:\n",
    "update_stock('camisa', 10)\n",
    "print(\"--------------\")\n",
    "\n",
    "#Elimino un producto:\n",
    "delete_product('jersei')\n",
    "print(\"--------------\")\n",
    "\n",
    "#Miro mi inventario actualizado:\n",
    "view_inventory()\n",
    "print(\"--------------\")\n",
    "\n",
    "#Compruebo el valor total:\n",
    "calculate_value_inventory()"
   ]
  }
 ],
 "metadata": {
  "kernelspec": {
   "display_name": "base",
   "language": "python",
   "name": "python3"
  },
  "language_info": {
   "codemirror_mode": {
    "name": "ipython",
    "version": 3
   },
   "file_extension": ".py",
   "mimetype": "text/x-python",
   "name": "python",
   "nbconvert_exporter": "python",
   "pygments_lexer": "ipython3",
   "version": "3.12.7"
  }
 },
 "nbformat": 4,
 "nbformat_minor": 5
}
